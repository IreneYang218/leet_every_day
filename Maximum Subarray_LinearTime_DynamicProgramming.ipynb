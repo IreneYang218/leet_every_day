{
 "cells": [
  {
   "cell_type": "markdown",
   "metadata": {},
   "source": [
    "## n^2 solution"
   ]
  },
  {
   "cell_type": "code",
   "execution_count": 1,
   "metadata": {},
   "outputs": [],
   "source": [
    "class Solution:\n",
    "    def maxSubArray(self, nums: 'List[int]') -> 'int':\n",
    "        if len(nums)==0:\n",
    "            return None\n",
    "        my_max = max(nums)\n",
    "        for i in range(len(nums)):\n",
    "            j = i+1\n",
    "            while j <= (len(nums)-1):\n",
    "                tmp = sum(nums[i:j+1])\n",
    "                if tmp > my_max:\n",
    "                    my_max = tmp\n",
    "                j += 1\n",
    "        return my_max"
   ]
  },
  {
   "cell_type": "markdown",
   "metadata": {},
   "source": [
    "[https://www.youtube.com/watch?v=2MmGzdiKR9Y](Linear time solution)"
   ]
  },
  {
   "cell_type": "markdown",
   "metadata": {},
   "source": [
    "## Linear Time Solution"
   ]
  },
  {
   "cell_type": "markdown",
   "metadata": {},
   "source": [
    "Use dynamic proggramming remember what's the maximum value if array end up with last index"
   ]
  },
  {
   "cell_type": "code",
   "execution_count": 4,
   "metadata": {},
   "outputs": [],
   "source": [
    "def maxSubArray(nums: 'List[int]') -> 'int':\n",
    "    if not nums:\n",
    "        return None\n",
    "    perMax = [nums[0]]\n",
    "    curMax = nums[0]\n",
    "    for n in nums[1:]:\n",
    "        if n < n+curMax:\n",
    "            curMax = n+curMax\n",
    "        else:\n",
    "            curMax = n\n",
    "        perMax.append(curMax)\n",
    "    return max(perMax)"
   ]
  },
  {
   "cell_type": "code",
   "execution_count": null,
   "metadata": {},
   "outputs": [],
   "source": []
  }
 ],
 "metadata": {
  "kernelspec": {
   "display_name": "Python 3",
   "language": "python",
   "name": "python3"
  },
  "language_info": {
   "codemirror_mode": {
    "name": "ipython",
    "version": 3
   },
   "file_extension": ".py",
   "mimetype": "text/x-python",
   "name": "python",
   "nbconvert_exporter": "python",
   "pygments_lexer": "ipython3",
   "version": "3.6.5"
  }
 },
 "nbformat": 4,
 "nbformat_minor": 2
}
